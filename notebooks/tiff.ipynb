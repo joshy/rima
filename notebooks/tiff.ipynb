{
 "cells": [
  {
   "cell_type": "markdown",
   "metadata": {},
   "source": [
    "# Example notebook to generate images of the segmentation"
   ]
  },
  {
   "cell_type": "code",
   "execution_count": 1,
   "metadata": {},
   "outputs": [
    {
     "name": "stdout",
     "output_type": "stream",
     "text": [
      "['', '/home/joshy/anaconda3/envs/jupyter/lib/python36.zip', '/home/joshy/anaconda3/envs/jupyter/lib/python3.6', '/home/joshy/anaconda3/envs/jupyter/lib/python3.6/lib-dynload', '/home/joshy/anaconda3/envs/jupyter/lib/python3.6/site-packages', '/home/joshy/anaconda3/envs/jupyter/lib/python3.6/site-packages/DicomBrowser-1.3.0-py3.6.egg', '/home/joshy/anaconda3/envs/jupyter/lib/python3.6/site-packages/pydicom-1.1.0-py3.6.egg', '/home/joshy/github/cornerstone_widget', '/home/joshy/anaconda3/envs/jupyter/lib/python3.6/site-packages/IPython/extensions', '/home/joshy/.ipython']\n"
     ]
    }
   ],
   "source": [
    "import sys\n",
    "print(sys.path)\n",
    "sys.path.append('../')\n",
    "\n",
    "import numpy as np\n",
    "\n",
    "import matplotlib\n",
    "matplotlib.use('Agg')\n",
    "import matplotlib.pyplot as plt"
   ]
  },
  {
   "cell_type": "code",
   "execution_count": 3,
   "metadata": {},
   "outputs": [],
   "source": [
    "from copd.loader import load_exam\n",
    "from copd.segmentation_watershed import segment as wsegment\n",
    "example = \"../data/example_5\"\n",
    "patient, imgs = load_exam(example)"
   ]
  },
  {
   "cell_type": "code",
   "execution_count": 4,
   "metadata": {},
   "outputs": [
    {
     "name": "stderr",
     "output_type": "stream",
     "text": [
      "/home/joshy/anaconda3/envs/jupyter/lib/python3.6/site-packages/skimage/segmentation/_clear_border.py:58: FutureWarning: Using a non-tuple sequence for multidimensional indexing is deprecated; use `arr[tuple(seq)]` instead of `arr[seq]`. In the future this will be interpreted as an array index, `arr[np.array(seq)]`, which will result either in an error or a different result.\n",
      "  borders[slicedim] = True\n",
      "/home/joshy/anaconda3/envs/jupyter/lib/python3.6/site-packages/skimage/segmentation/_clear_border.py:60: FutureWarning: Using a non-tuple sequence for multidimensional indexing is deprecated; use `arr[tuple(seq)]` instead of `arr[seq]`. In the future this will be interpreted as an array index, `arr[np.array(seq)]`, which will result either in an error or a different result.\n",
      "  borders[slicedim] = True\n",
      "/home/joshy/anaconda3/envs/jupyter/lib/python3.6/site-packages/skimage/util/arraycrop.py:175: FutureWarning: Using a non-tuple sequence for multidimensional indexing is deprecated; use `arr[tuple(seq)]` instead of `arr[seq]`. In the future this will be interpreted as an array index, `arr[np.array(seq)]`, which will result either in an error or a different result.\n",
      "  cropped = np.array(ar[slices], order=order, copy=True)\n",
      "/home/joshy/anaconda3/envs/jupyter/lib/python3.6/site-packages/scipy/ndimage/morphology.py:114: FutureWarning: Using a non-tuple sequence for multidimensional indexing is deprecated; use `arr[tuple(seq)]` instead of `arr[seq]`. In the future this will be interpreted as an array index, `arr[np.array(seq)]`, which will result either in an error or a different result.\n",
      "  out[slc] = structure != 0\n"
     ]
    }
   ],
   "source": [
    "wsegment = wsegment(imgs)"
   ]
  },
  {
   "cell_type": "code",
   "execution_count": 6,
   "metadata": {},
   "outputs": [],
   "source": [
    "def to_tiff(segmentation):\n",
    "    for c,segment in enumerate(segmentation):\n",
    "        plt.imshow(segment,cmap='gray')\n",
    "        plt.axis('off')\n",
    "        filename = './images/output-{}.png'.format(c)\n",
    "        plt.savefig(filename)\n",
    "        plt.cla()"
   ]
  },
  {
   "cell_type": "code",
   "execution_count": 9,
   "metadata": {},
   "outputs": [],
   "source": [
    "to_tiff(wsegment)"
   ]
  }
 ],
 "metadata": {
  "kernelspec": {
   "display_name": "Python 3",
   "language": "python",
   "name": "python3"
  },
  "language_info": {
   "codemirror_mode": {
    "name": "ipython",
    "version": 3
   },
   "file_extension": ".py",
   "mimetype": "text/x-python",
   "name": "python",
   "nbconvert_exporter": "python",
   "pygments_lexer": "ipython3",
   "version": "3.6.6"
  }
 },
 "nbformat": 4,
 "nbformat_minor": 2
}
