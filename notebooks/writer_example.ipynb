{
 "cells": [
  {
   "cell_type": "code",
   "execution_count": 1,
   "metadata": {},
   "outputs": [
    {
     "name": "stdout",
     "output_type": "stream",
     "text": [
      "['', '/home/joshy/anaconda3/envs/jupyter/lib/python36.zip', '/home/joshy/anaconda3/envs/jupyter/lib/python3.6', '/home/joshy/anaconda3/envs/jupyter/lib/python3.6/lib-dynload', '/home/joshy/anaconda3/envs/jupyter/lib/python3.6/site-packages', '/home/joshy/anaconda3/envs/jupyter/lib/python3.6/site-packages/DicomBrowser-1.3.0-py3.6.egg', '/home/joshy/anaconda3/envs/jupyter/lib/python3.6/site-packages/pydicom-1.1.0-py3.6.egg', '/home/joshy/github/cornerstone_widget', '/home/joshy/anaconda3/envs/jupyter/lib/python3.6/site-packages/IPython/extensions', '/home/joshy/.ipython']\n"
     ]
    }
   ],
   "source": [
    "import sys\n",
    "print(sys.path)\n",
    "sys.path.append('../')\n",
    "\n",
    "import numpy as np\n",
    "import nibabel as nib"
   ]
  },
  {
   "cell_type": "code",
   "execution_count": 6,
   "metadata": {},
   "outputs": [],
   "source": [
    "from copd.loader import load_exam\n",
    "from copd.segmentation import segment"
   ]
  },
  {
   "cell_type": "code",
   "execution_count": 3,
   "metadata": {},
   "outputs": [],
   "source": [
    "example = \"/home/joshy/github/meta/image_data/copd/USB0003624524/25720449/7\"\n",
    "patient, imgs = load_exam(example)\n",
    "segmentation = segment(imgs)"
   ]
  },
  {
   "cell_type": "code",
   "execution_count": 4,
   "metadata": {},
   "outputs": [
    {
     "name": "stdout",
     "output_type": "stream",
     "text": [
      "(512, 512, 294)\n",
      "<class 'nibabel.nifti2.Nifti2Header'> object, endian='<'\n",
      "sizeof_hdr      : 540\n",
      "magic           : b'n+2'\n",
      "eol_check       : [13 10 26 10]\n",
      "datatype        : int64\n",
      "bitpix          : 64\n",
      "dim             : [  3 512 512 294   1   1   1   1]\n",
      "intent_p1       : 0.0\n",
      "intent_p2       : 0.0\n",
      "intent_p3       : 0.0\n",
      "pixdim          : [1. 1. 1. 1. 1. 1. 1. 1.]\n",
      "vox_offset      : 0\n",
      "scl_slope       : nan\n",
      "scl_inter       : nan\n",
      "cal_max         : 0.0\n",
      "cal_min         : 0.0\n",
      "slice_duration  : 0.0\n",
      "toffset         : 0.0\n",
      "slice_start     : 0\n",
      "slice_end       : 0\n",
      "descrip         : b''\n",
      "aux_file        : b''\n",
      "qform_code      : unknown\n",
      "sform_code      : aligned\n",
      "quatern_b       : 0.0\n",
      "quatern_c       : 0.0\n",
      "quatern_d       : 0.0\n",
      "qoffset_x       : 0.0\n",
      "qoffset_y       : 0.0\n",
      "qoffset_z       : 0.0\n",
      "srow_x          : [1. 0. 0. 0.]\n",
      "srow_y          : [0. 1. 0. 0.]\n",
      "srow_z          : [0. 0. 1. 0.]\n",
      "slice_code      : unknown\n",
      "xyzt_units      : 0\n",
      "intent_code     : none\n",
      "intent_name     : b''\n",
      "dim_info        : 0\n",
      "unused_str      : b''\n"
     ]
    }
   ],
   "source": [
    "stacked = np.stack(segmentation, axis=-1)\n",
    "print(stacked.shape)\n",
    "nifti_image = nib.Nifti2Image(stacked, affine=np.eye(4))\n",
    "header = nifti_image.header\n",
    "print(header)"
   ]
  },
  {
   "cell_type": "code",
   "execution_count": 5,
   "metadata": {},
   "outputs": [],
   "source": [
    "nib.save(nifti_image, 'example.nii')"
   ]
  },
  {
   "cell_type": "code",
   "execution_count": null,
   "metadata": {},
   "outputs": [],
   "source": []
  }
 ],
 "metadata": {
  "kernelspec": {
   "display_name": "Python 3",
   "language": "python",
   "name": "python3"
  },
  "language_info": {
   "codemirror_mode": {
    "name": "ipython",
    "version": 3
   },
   "file_extension": ".py",
   "mimetype": "text/x-python",
   "name": "python",
   "nbconvert_exporter": "python",
   "pygments_lexer": "ipython3",
   "version": "3.6.6"
  }
 },
 "nbformat": 4,
 "nbformat_minor": 2
}
