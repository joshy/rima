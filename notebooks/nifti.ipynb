{
 "cells": [
  {
   "cell_type": "markdown",
   "metadata": {},
   "source": [
    "# Experiment with nifti"
   ]
  },
  {
   "cell_type": "code",
   "execution_count": 4,
   "metadata": {},
   "outputs": [],
   "source": [
    "from dicom2nifti import convert_directory\n",
    "import nibabel as nib"
   ]
  },
  {
   "cell_type": "code",
   "execution_count": 3,
   "metadata": {},
   "outputs": [
    {
     "name": "stderr",
     "output_type": "stream",
     "text": [
      "Traceback (most recent call last):\n",
      "  File \"/home/joshy/anaconda3/envs/jupyter/lib/python3.6/site-packages/dicom2nifti/convert_dir.py\", line 95, in convert_directory\n",
      "    convert_dicom.dicom_array_to_nifti(dicom_input, nifti_file, reorient)\n",
      "  File \"/home/joshy/anaconda3/envs/jupyter/lib/python3.6/site-packages/dicom2nifti/convert_dicom.py\", line 128, in dicom_array_to_nifti\n",
      "    results = convert_generic.dicom_to_nifti(dicom_list, output_file)\n",
      "  File \"/home/joshy/anaconda3/envs/jupyter/lib/python3.6/site-packages/dicom2nifti/convert_generic.py\", line 80, in dicom_to_nifti\n",
      "    nii_image.to_filename(output_file)\n",
      "  File \"/home/joshy/anaconda3/envs/jupyter/lib/python3.6/site-packages/nibabel/filebasedimages.py\", line 334, in to_filename\n",
      "    self.to_file_map()\n",
      "  File \"/home/joshy/anaconda3/envs/jupyter/lib/python3.6/site-packages/nibabel/analyze.py\", line 1078, in to_file_map\n",
      "    hdrf = hdr_fh.get_prepare_fileobj(mode='wb')\n",
      "  File \"/home/joshy/anaconda3/envs/jupyter/lib/python3.6/site-packages/nibabel/fileholders.py\", line 70, in get_prepare_fileobj\n",
      "    obj = ImageOpener(self.filename, *args, **kwargs)\n",
      "  File \"/home/joshy/anaconda3/envs/jupyter/lib/python3.6/site-packages/nibabel/openers.py\", line 164, in __init__\n",
      "    self.fobj = opener(fileish, *args, **kwargs)\n",
      "  File \"/home/joshy/anaconda3/envs/jupyter/lib/python3.6/site-packages/nibabel/openers.py\", line 98, in _gzip_open\n",
      "    gzip_file = BufferedGzipFile(filename, mode, compresslevel)\n",
      "  File \"/home/joshy/anaconda3/envs/jupyter/lib/python3.6/gzip.py\", line 163, in __init__\n",
      "    fileobj = self.myfileobj = builtins.open(filename, mode or 'rb')\n",
      "FileNotFoundError: [Errno 2] No such file or directory: './example_5.nii/5_thorax___10__i26f__3.nii.gz'\n"
     ]
    }
   ],
   "source": [
    "convert_directory('../data/example_5', './')"
   ]
  },
  {
   "cell_type": "code",
   "execution_count": 5,
   "metadata": {},
   "outputs": [],
   "source": [
    "nifti = nib.load(\"5_thorax___10__i26f__3.nii.gz\")"
   ]
  },
  {
   "cell_type": "code",
   "execution_count": 10,
   "metadata": {},
   "outputs": [
    {
     "name": "stdout",
     "output_type": "stream",
     "text": [
      "<class 'nibabel.nifti1.Nifti1Header'> object, endian='<'\n",
      "sizeof_hdr      : 348\n",
      "data_type       : b''\n",
      "db_name         : b''\n",
      "extents         : 0\n",
      "session_error   : 0\n",
      "regular         : b''\n",
      "dim_info        : 0\n",
      "dim             : [  3 512 512 303   1   1   1   1]\n",
      "intent_p1       : 0.0\n",
      "intent_p2       : 0.0\n",
      "intent_p3       : 0.0\n",
      "intent_code     : none\n",
      "datatype        : int16\n",
      "bitpix          : 16\n",
      "slice_start     : 0\n",
      "pixdim          : [-1.    0.75  0.75  1.    1.    1.    1.    1.  ]\n",
      "vox_offset      : 0.0\n",
      "scl_slope       : nan\n",
      "scl_inter       : nan\n",
      "slice_end       : 0\n",
      "slice_code      : unknown\n",
      "xyzt_units      : 0\n",
      "cal_max         : 0.0\n",
      "cal_min         : 0.0\n",
      "slice_duration  : 0.0\n",
      "toffset         : 0.0\n",
      "glmax           : 0\n",
      "glmin           : 0\n",
      "descrip         : b''\n",
      "aux_file        : b''\n",
      "qform_code      : unknown\n",
      "sform_code      : aligned\n",
      "quatern_b       : 0.0\n",
      "quatern_c       : 1.0\n",
      "quatern_d       : 0.0\n",
      "qoffset_x       : 200.625\n",
      "qoffset_y       : -44.625\n",
      "qoffset_z       : 94.7\n",
      "srow_x          : [ -0.75    0.      0.    200.625]\n",
      "srow_y          : [ -0.      0.75    0.    -44.625]\n",
      "srow_z          : [ 0.  -0.   1.  94.7]\n",
      "intent_name     : b''\n",
      "magic           : b'n+1'\n"
     ]
    }
   ],
   "source": [
    "print(nifti.header)"
   ]
  },
  {
   "cell_type": "code",
   "execution_count": null,
   "metadata": {},
   "outputs": [],
   "source": []
  }
 ],
 "metadata": {
  "kernelspec": {
   "display_name": "Python 3",
   "language": "python",
   "name": "python3"
  },
  "language_info": {
   "codemirror_mode": {
    "name": "ipython",
    "version": 3
   },
   "file_extension": ".py",
   "mimetype": "text/x-python",
   "name": "python",
   "nbconvert_exporter": "python",
   "pygments_lexer": "ipython3",
   "version": "3.6.6"
  }
 },
 "nbformat": 4,
 "nbformat_minor": 2
}
